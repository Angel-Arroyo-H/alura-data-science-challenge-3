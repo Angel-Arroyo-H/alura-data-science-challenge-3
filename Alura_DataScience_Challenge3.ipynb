{
  "nbformat": 4,
  "nbformat_minor": 0,
  "metadata": {
    "colab": {
      "provenance": [],
      "authorship_tag": "ABX9TyM4wQO68t3Li4PKa9Rp3gBz",
      "include_colab_link": true
    },
    "kernelspec": {
      "name": "python3",
      "display_name": "Python 3"
    },
    "language_info": {
      "name": "python"
    }
  },
  "cells": [
    {
      "cell_type": "markdown",
      "metadata": {
        "id": "view-in-github",
        "colab_type": "text"
      },
      "source": [
        "<a href=\"https://colab.research.google.com/github/Angel-Arroyo-H/alura-data-science-challenge-3/blob/main/Alura_DataScience_Challenge3.ipynb\" target=\"_parent\"><img src=\"https://colab.research.google.com/assets/colab-badge.svg\" alt=\"Open In Colab\"/></a>"
      ]
    },
    {
      "cell_type": "markdown",
      "source": [
        "# Extração de dados\n",
        "Faremos a extração diretamente do repositorio do projeto."
      ],
      "metadata": {
        "id": "PUKMBKZWELqj"
      }
    },
    {
      "cell_type": "code",
      "execution_count": null,
      "metadata": {
        "id": "0ahP2OsODNh7"
      },
      "outputs": [],
      "source": [
        "import pandas as pd\n",
        "\n",
        "url = 'https://raw.githubusercontent.com/Angel-Arroyo-H/alura-data-science-challenge-3/refs/heads/main/dados/dados_tratados.csv'\n",
        "dados = pd.read_csv(url)"
      ]
    },
    {
      "cell_type": "markdown",
      "source": [
        "# Preparação dos dados\n",
        "Os dados não apresentam colunas irrelevantes."
      ],
      "metadata": {
        "id": "rOG4ffovLeIn"
      }
    },
    {
      "cell_type": "code",
      "source": [
        "dados.info()"
      ],
      "metadata": {
        "colab": {
          "base_uri": "https://localhost:8080/"
        },
        "id": "Q52R5MAyJrrv",
        "outputId": "54938110-7874-4942-ea91-15edf4c4c904"
      },
      "execution_count": null,
      "outputs": [
        {
          "output_type": "stream",
          "name": "stdout",
          "text": [
            "<class 'pandas.core.frame.DataFrame'>\n",
            "RangeIndex: 7032 entries, 0 to 7031\n",
            "Data columns (total 21 columns):\n",
            " #   Column                   Non-Null Count  Dtype  \n",
            "---  ------                   --------------  -----  \n",
            " 0   churn                    7032 non-null   bool   \n",
            " 1   cliente_idoso            7032 non-null   bool   \n",
            " 2   cliente_tem_parceiro     7032 non-null   bool   \n",
            " 3   cliente_tem_dependentes  7032 non-null   bool   \n",
            " 4   meses_contrato           7032 non-null   int64  \n",
            " 5   servico_telefonico       7032 non-null   bool   \n",
            " 6   multiplas_linhas         7032 non-null   object \n",
            " 7   assinatura_internet      7032 non-null   object \n",
            " 8   seguranca_online         7032 non-null   object \n",
            " 9   backup_online            7032 non-null   object \n",
            " 10  protecao_dispositivo     7032 non-null   object \n",
            " 11  suporte_tecnico          7032 non-null   object \n",
            " 12  tv_a_cabo                7032 non-null   object \n",
            " 13  streaming_filmes         7032 non-null   object \n",
            " 14  contrato                 7032 non-null   object \n",
            " 15  fatura_online            7032 non-null   bool   \n",
            " 16  forma_pagamento          7032 non-null   object \n",
            " 17  faturamento_mensal       7032 non-null   float64\n",
            " 18  faturamento_total        7032 non-null   float64\n",
            " 19  cliente_masculino        7032 non-null   bool   \n",
            " 20  contas_diarias           7032 non-null   float64\n",
            "dtypes: bool(7), float64(3), int64(1), object(10)\n",
            "memory usage: 817.3+ KB\n"
          ]
        }
      ]
    },
    {
      "cell_type": "markdown",
      "source": [
        "## Encoding\n",
        "Variáveis categóricas que em formato de texto não podem ser utilizadas diretamente nos modelos de Machine Learning. Nesta parte do desafio, informaremos quais são as variáveis explicativas e qual é a variável alvo e transformaremos as variáveis categóricas para formato numérico usando o OneHotEncoder, utilizando o parâmetro drop='if_binary' caso alguma variável tenha apenas 2 categorias."
      ],
      "metadata": {
        "id": "TySN6H2OL0KF"
      }
    },
    {
      "cell_type": "code",
      "source": [
        "from sklearn.compose import make_column_transformer\n",
        "from sklearn.preprocessing import OneHotEncoder"
      ],
      "metadata": {
        "id": "TYLN5opnMUYb"
      },
      "execution_count": null,
      "outputs": []
    },
    {
      "cell_type": "code",
      "source": [
        "y = dados['churn']\n",
        "x = dados.drop(['churn'],axis=1)"
      ],
      "metadata": {
        "id": "v-VcpgOYMe_S"
      },
      "execution_count": null,
      "outputs": []
    },
    {
      "cell_type": "code",
      "source": [],
      "metadata": {
        "id": "gdoFokY3Me60"
      },
      "execution_count": null,
      "outputs": []
    },
    {
      "cell_type": "code",
      "source": [],
      "metadata": {
        "id": "yzdtuknBMe4w"
      },
      "execution_count": null,
      "outputs": []
    },
    {
      "cell_type": "code",
      "source": [],
      "metadata": {
        "id": "ddTPHK3sMe2T"
      },
      "execution_count": null,
      "outputs": []
    },
    {
      "cell_type": "code",
      "source": [],
      "metadata": {
        "id": "cv3jQx2wMezN"
      },
      "execution_count": null,
      "outputs": []
    },
    {
      "cell_type": "code",
      "source": [],
      "metadata": {
        "id": "Ly7EahtnMewB"
      },
      "execution_count": null,
      "outputs": []
    },
    {
      "cell_type": "code",
      "source": [],
      "metadata": {
        "id": "e_QV3gjlMetd"
      },
      "execution_count": null,
      "outputs": []
    }
  ]
}